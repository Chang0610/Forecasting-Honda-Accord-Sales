{
 "cells": [
  {
   "cell_type": "markdown",
   "id": "78bb79cd-6ada-4b52-94f0-dfde4ac04e78",
   "metadata": {},
   "source": [
    "# Forecasting Honda Accord Sales"
   ]
  },
  {
   "cell_type": "markdown",
   "id": "5791d64c-5af0-41f0-a2a8-3444ecc122a9",
   "metadata": {},
   "source": [
    "## 1. Data Preprocessing and Feature Engineering"
   ]
  },
  {
   "cell_type": "code",
   "execution_count": 30,
   "id": "651ff198-168f-4c90-b44e-e8da306bb3a8",
   "metadata": {},
   "outputs": [],
   "source": [
    "import numpy as np\n",
    "import pandas as pd\n",
    "from sklearn.model_selection import train_test_split\n",
    "from sklearn.preprocessing import StandardScaler\n",
    "import statsmodels.api as sm\n",
    "\n",
    "# Load the dataset\n",
    "Sales = pd.read_csv('Accord-242A-Fall24.csv')\n",
    "\n",
    "# Log transformation for AccordSales to stabilize variance\n",
    "Sales['AccordSales_log'] = np.log(Sales['AccordSales'])\n",
    "\n",
    "# Train-test split based on the year\n",
    "Sales_train = Sales[(Sales['Year'] >= 2014) & (Sales['Year'] <= 2018)]\n",
    "Sales_test = Sales[(Sales['Year'] >= 2019) & (Sales['Year'] <= 2023)]\n",
    "\n",
    "# Selected features\n",
    "features = ['Unemployment', 'AccordQueries', 'CPIEnergy', 'CPIAll', 'MilesTraveled']\n",
    "\n",
    "X_train = Sales_train[features]\n",
    "y_train = Sales_train['AccordSales_log']  # Using the log-transformed target\n",
    "X_test = Sales_test[features]\n",
    "y_test = Sales_test['AccordSales_log']\n",
    "\n",
    "# Add an intercept for OLS model\n",
    "X_train = sm.add_constant(X_train)\n",
    "X_test = sm.add_constant(X_test)\n"
   ]
  },
  {
   "cell_type": "markdown",
   "id": "be8f8a6d-3865-47ab-8955-466d7190ff32",
   "metadata": {},
   "source": [
    "## 2. Ridge and Lasso Regularization"
   ]
  },
  {
   "cell_type": "code",
   "execution_count": 31,
   "id": "f6856feb-aaf4-4755-97d1-c48a613a494f",
   "metadata": {},
   "outputs": [
    {
     "name": "stdout",
     "output_type": "stream",
     "text": [
      "Ridge RMSE: 0.4125625706282273, Lasso RMSE: 0.5920111906072673\n"
     ]
    }
   ],
   "source": [
    "from sklearn.linear_model import Ridge, Lasso\n",
    "from sklearn.metrics import mean_squared_error, mean_absolute_error\n",
    "\n",
    "# Scaling features\n",
    "scaler = StandardScaler()\n",
    "X_train_scaled = scaler.fit_transform(X_train)\n",
    "X_test_scaled = scaler.transform(X_test)\n",
    "\n",
    "# Ridge Regression\n",
    "ridge_model = Ridge(alpha=1.0)\n",
    "ridge_model.fit(X_train_scaled, y_train)\n",
    "y_pred_ridge = ridge_model.predict(X_test_scaled)\n",
    "\n",
    "# Lasso Regression\n",
    "lasso_model = Lasso(alpha=0.1)\n",
    "lasso_model.fit(X_train_scaled, y_train)\n",
    "y_pred_lasso = lasso_model.predict(X_test_scaled)\n",
    "\n",
    "# Performance Metrics\n",
    "rmse_ridge = np.sqrt(mean_squared_error(y_test, y_pred_ridge))\n",
    "rmse_lasso = np.sqrt(mean_squared_error(y_test, y_pred_lasso))\n",
    "print(f\"Ridge RMSE: {rmse_ridge}, Lasso RMSE: {rmse_lasso}\")\n"
   ]
  },
  {
   "cell_type": "markdown",
   "id": "c860f91a-8459-4741-815a-0308b15600ac",
   "metadata": {},
   "source": [
    "## 3. Cross-Validation"
   ]
  },
  {
   "cell_type": "code",
   "execution_count": 32,
   "id": "2f10562e-bea0-4d88-8dd7-c73175c57a86",
   "metadata": {},
   "outputs": [
    {
     "name": "stdout",
     "output_type": "stream",
     "text": [
      "Ridge Cross-Validated RMSE: 0.19914316356171163\n",
      "Lasso Cross-Validated RMSE: 0.20048102676819343\n"
     ]
    }
   ],
   "source": [
    "from sklearn.model_selection import cross_val_score\n",
    "\n",
    "# Cross-validation for Ridge model\n",
    "ridge_cv_scores = cross_val_score(ridge_model, X_train_scaled, y_train, cv=5, scoring='neg_mean_squared_error')\n",
    "ridge_cv_rmse = np.sqrt(-ridge_cv_scores)\n",
    "print(f\"Ridge Cross-Validated RMSE: {ridge_cv_rmse.mean()}\")\n",
    "\n",
    "# Cross-validation for Lasso model\n",
    "lasso_cv_scores = cross_val_score(lasso_model, X_train_scaled, y_train, cv=5, scoring='neg_mean_squared_error')\n",
    "lasso_cv_rmse = np.sqrt(-lasso_cv_scores)\n",
    "print(f\"Lasso Cross-Validated RMSE: {lasso_cv_rmse.mean()}\")\n"
   ]
  },
  {
   "cell_type": "markdown",
   "id": "32ce5b5c-216d-466c-aa36-dfd4b98971cb",
   "metadata": {},
   "source": [
    "## 4. Advanced Models: Random Forest and Gradient Boosting"
   ]
  },
  {
   "cell_type": "code",
   "execution_count": 33,
   "id": "febc8795-9d84-4f3d-8a12-f05fae57cc7b",
   "metadata": {},
   "outputs": [
    {
     "name": "stdout",
     "output_type": "stream",
     "text": [
      "Random Forest RMSE: 0.5858213269229974, Gradient Boosting RMSE: 0.5576983968818576\n"
     ]
    }
   ],
   "source": [
    "from sklearn.ensemble import RandomForestRegressor, GradientBoostingRegressor\n",
    "\n",
    "# Random Forest\n",
    "rf_model = RandomForestRegressor(n_estimators=100, random_state=42)\n",
    "rf_model.fit(X_train_scaled, y_train)\n",
    "y_pred_rf = rf_model.predict(X_test_scaled)\n",
    "\n",
    "# Gradient Boosting\n",
    "gb_model = GradientBoostingRegressor(n_estimators=100, learning_rate=0.1, random_state=42)\n",
    "gb_model.fit(X_train_scaled, y_train)\n",
    "y_pred_gb = gb_model.predict(X_test_scaled)\n",
    "\n",
    "# Performance Metrics\n",
    "rmse_rf = np.sqrt(mean_squared_error(y_test, y_pred_rf))\n",
    "rmse_gb = np.sqrt(mean_squared_error(y_test, y_pred_gb))\n",
    "print(f\"Random Forest RMSE: {rmse_rf}, Gradient Boosting RMSE: {rmse_gb}\")\n"
   ]
  },
  {
   "cell_type": "markdown",
   "id": "65820121-e447-4170-ac97-268c051caaa6",
   "metadata": {},
   "source": [
    "## 5. Hyperparameter Tuning with Grid Sear"
   ]
  },
  {
   "cell_type": "code",
   "execution_count": 34,
   "id": "ea7822de-edf3-4da4-a3b8-5ee882252ce7",
   "metadata": {},
   "outputs": [
    {
     "name": "stdout",
     "output_type": "stream",
     "text": [
      "Best Random Forest Parameters: {'max_depth': 10, 'n_estimators': 200}\n"
     ]
    }
   ],
   "source": [
    "from sklearn.model_selection import GridSearchCV\n",
    "\n",
    "# Define the parameter grid for Random Forest\n",
    "param_grid_rf = {\n",
    "    'n_estimators': [100, 200],\n",
    "    'max_depth': [10, 20, 30]\n",
    "}\n",
    "\n",
    "# Grid Search for Random Forest\n",
    "grid_search_rf = GridSearchCV(RandomForestRegressor(), param_grid_rf, cv=5, scoring='neg_mean_squared_error')\n",
    "grid_search_rf.fit(X_train_scaled, y_train)\n",
    "best_rf_model = grid_search_rf.best_estimator_\n",
    "\n",
    "print(f\"Best Random Forest Parameters: {grid_search_rf.best_params_}\")\n"
   ]
  },
  {
   "cell_type": "markdown",
   "id": "9bc3a46a-9c69-4f88-961f-23eac0e81a59",
   "metadata": {},
   "source": [
    "## 6. Time Series Forecasting with SARIMA"
   ]
  },
  {
   "cell_type": "code",
   "execution_count": 35,
   "id": "fbd3e335-146d-4e4d-9c91-690c20e1725d",
   "metadata": {},
   "outputs": [
    {
     "name": "stdout",
     "output_type": "stream",
     "text": [
      "RUNNING THE L-BFGS-B CODE\n",
      "\n",
      "           * * *\n",
      "\n",
      "Machine precision = 2.220D-16\n",
      " N =            5     M =           10\n",
      "\n",
      "At X0         0 variables are exactly at the bounds\n",
      "\n",
      "At iterate    0    f= -5.31870D-01    |proj g|=  9.86681D-01\n"
     ]
    },
    {
     "name": "stderr",
     "output_type": "stream",
     "text": [
      "/srv/conda/lib/python3.11/site-packages/statsmodels/tsa/statespace/sarimax.py:1009: UserWarning: Non-invertible starting seasonal moving average Using zeros as starting parameters.\n",
      "  warn('Non-invertible starting seasonal moving average'\n",
      " This problem is unconstrained.\n"
     ]
    },
    {
     "name": "stdout",
     "output_type": "stream",
     "text": [
      "\n",
      "At iterate    5    f= -5.43884D-01    |proj g|=  7.62342D-01\n",
      "\n",
      "At iterate   10    f= -5.50492D-01    |proj g|=  1.79596D-01\n",
      "\n",
      "At iterate   15    f= -5.53460D-01    |proj g|=  9.64905D-02\n",
      "\n",
      "At iterate   20    f= -5.59983D-01    |proj g|=  7.51962D-01\n",
      "\n",
      "At iterate   25    f= -5.67243D-01    |proj g|=  7.80823D-02\n",
      "\n",
      "At iterate   30    f= -5.75016D-01    |proj g|=  1.95834D-02\n",
      "\n",
      "At iterate   35    f= -5.77294D-01    |proj g|=  2.73446D-02\n",
      "\n",
      "At iterate   40    f= -5.77848D-01    |proj g|=  4.79211D-04\n",
      "\n",
      "           * * *\n",
      "\n",
      "Tit   = total number of iterations\n",
      "Tnf   = total number of function evaluations\n",
      "Tnint = total number of segments explored during Cauchy searches\n",
      "Skip  = number of BFGS updates skipped\n",
      "Nact  = number of active bounds at final generalized Cauchy point\n",
      "Projg = norm of the final projected gradient\n",
      "F     = final function value\n",
      "\n",
      "           * * *\n",
      "\n",
      "   N    Tit     Tnf  Tnint  Skip  Nact     Projg        F\n",
      "    5     43     57      1     0     0   9.228D-04  -5.778D-01\n",
      "  F = -0.57784869913974801     \n",
      "\n",
      "CONVERGENCE: REL_REDUCTION_OF_F_<=_FACTR*EPSMCH             \n",
      "SARIMA RMSE: 0.34112609656987797\n"
     ]
    }
   ],
   "source": [
    "from statsmodels.tsa.statespace.sarimax import SARIMAX\n",
    "\n",
    "# Fit a SARIMA model for time series forecasting\n",
    "sarima_model = SARIMAX(y_train, order=(1, 1, 1), seasonal_order=(1, 1, 1, 12))\n",
    "sarima_results = sarima_model.fit()\n",
    "\n",
    "# Predict future sales using the SARIMA model\n",
    "y_pred_sarima = sarima_results.predict(start=len(y_train), end=len(y_train) + len(y_test) - 1)\n",
    "\n",
    "# Performance Metrics\n",
    "rmse_sarima = np.sqrt(mean_squared_error(y_test, y_pred_sarima))\n",
    "print(f\"SARIMA RMSE: {rmse_sarima}\")\n"
   ]
  },
  {
   "cell_type": "markdown",
   "id": "3d46198b-4710-4084-abe9-b7e59005d571",
   "metadata": {},
   "source": [
    "## 7. Model Deployment with Flask"
   ]
  },
  {
   "cell_type": "code",
   "execution_count": 36,
   "id": "7852be4f-649a-4819-9410-fb874f895a16",
   "metadata": {},
   "outputs": [
    {
     "name": "stdout",
     "output_type": "stream",
     "text": [
      "Requirement already satisfied: flask in /srv/conda/lib/python3.11/site-packages (3.0.3)\n",
      "Requirement already satisfied: Werkzeug>=3.0.0 in /srv/conda/lib/python3.11/site-packages (from flask) (3.0.4)\n",
      "Requirement already satisfied: Jinja2>=3.1.2 in /srv/conda/lib/python3.11/site-packages (from flask) (3.1.4)\n",
      "Requirement already satisfied: itsdangerous>=2.1.2 in /srv/conda/lib/python3.11/site-packages (from flask) (2.2.0)\n",
      "Requirement already satisfied: click>=8.1.3 in /srv/conda/lib/python3.11/site-packages (from flask) (8.1.7)\n",
      "Requirement already satisfied: blinker>=1.6.2 in /srv/conda/lib/python3.11/site-packages (from flask) (1.8.2)\n",
      "Requirement already satisfied: MarkupSafe>=2.0 in /srv/conda/lib/python3.11/site-packages (from Jinja2>=3.1.2->flask) (2.1.5)\n",
      " * Serving Flask app '__main__'\n",
      " * Debug mode: on\n"
     ]
    },
    {
     "name": "stderr",
     "output_type": "stream",
     "text": [
      "WARNING: This is a development server. Do not use it in a production deployment. Use a production WSGI server instead.\n",
      " * Running on http://127.0.0.1:5001\n",
      "Press CTRL+C to quit\n",
      " * Restarting with stat\n",
      "0.00s - Debugger warning: It seems that frozen modules are being used, which may\n",
      "0.00s - make the debugger miss breakpoints. Please pass -Xfrozen_modules=off\n",
      "0.00s - to python to disable frozen modules.\n",
      "0.00s - Note: Debugging will proceed. Set PYDEVD_DISABLE_FILE_VALIDATION=1 to disable this validation.\n",
      "Traceback (most recent call last):\n",
      "  File \"<frozen runpy>\", line 198, in _run_module_as_main\n",
      "  File \"<frozen runpy>\", line 88, in _run_code\n",
      "  File \"/srv/conda/lib/python3.11/site-packages/ipykernel_launcher.py\", line 17, in <module>\n",
      "    app.launch_new_instance()\n",
      "  File \"/srv/conda/lib/python3.11/site-packages/traitlets/config/application.py\", line 1042, in launch_instance\n",
      "    app.initialize(argv)\n",
      "  File \"/srv/conda/lib/python3.11/site-packages/traitlets/config/application.py\", line 113, in inner\n",
      "    return method(app, *args, **kwargs)\n",
      "           ^^^^^^^^^^^^^^^^^^^^^^^^^^^^\n",
      "  File \"/srv/conda/lib/python3.11/site-packages/ipykernel/kernelapp.py\", line 665, in initialize\n",
      "    self.init_sockets()\n",
      "  File \"/srv/conda/lib/python3.11/site-packages/ipykernel/kernelapp.py\", line 309, in init_sockets\n",
      "    self.shell_port = self._bind_socket(self.shell_socket, self.shell_port)\n",
      "                      ^^^^^^^^^^^^^^^^^^^^^^^^^^^^^^^^^^^^^^^^^^^^^^^^^^^^^\n",
      "  File \"/srv/conda/lib/python3.11/site-packages/ipykernel/kernelapp.py\", line 246, in _bind_socket\n",
      "    return self._try_bind_socket(s, port)\n",
      "           ^^^^^^^^^^^^^^^^^^^^^^^^^^^^^^\n",
      "  File \"/srv/conda/lib/python3.11/site-packages/ipykernel/kernelapp.py\", line 222, in _try_bind_socket\n",
      "    s.bind(\"tcp://%s:%i\" % (self.ip, port))\n",
      "  File \"/srv/conda/lib/python3.11/site-packages/zmq/sugar/socket.py\", line 311, in bind\n",
      "    super().bind(addr)\n",
      "  File \"_zmq.py\", line 917, in zmq.backend.cython._zmq.Socket.bind\n",
      "  File \"_zmq.py\", line 179, in zmq.backend.cython._zmq._check_rc\n",
      "zmq.error.ZMQError: Address already in use (addr='tcp://127.0.0.1:47571')\n"
     ]
    },
    {
     "ename": "SystemExit",
     "evalue": "1",
     "output_type": "error",
     "traceback": [
      "An exception has occurred, use %tb to see the full traceback.\n",
      "\u001b[0;31mSystemExit\u001b[0m\u001b[0;31m:\u001b[0m 1\n"
     ]
    },
    {
     "name": "stderr",
     "output_type": "stream",
     "text": [
      "/srv/conda/lib/python3.11/site-packages/IPython/core/interactiveshell.py:3561: UserWarning: To exit: use 'exit', 'quit', or Ctrl-D.\n",
      "  warn(\"To exit: use 'exit', 'quit', or Ctrl-D.\", stacklevel=1)\n"
     ]
    }
   ],
   "source": [
    "!pip install flask\n",
    "\n",
    "if __name__ == '__main__':\n",
    "    app.run(debug=True, port=5001)  # 使用不同的端口，如 5001\n",
    "\n",
    "from flask import Flask, request, jsonify\n",
    "\n",
    "# Flask app for serving the model predictions\n",
    "app = Flask(__name__)\n",
    "\n",
    "@app.route('/predict', methods=['POST'])\n",
    "def predict():\n",
    "    data = request.get_json()\n",
    "    features = np.array(data['features']).reshape(1, -1)\n",
    "    scaled_features = scaler.transform(features)\n",
    "    \n",
    "    # Predict using the best model (e.g., Random Forest)\n",
    "    prediction = best_rf_model.predict(scaled_features)\n",
    "    return jsonify({'prediction': prediction.tolist()})\n",
    "\n",
    "if __name__ == '__main__':\n",
    "    app.run(debug=True)\n"
   ]
  },
  {
   "cell_type": "markdown",
   "id": "25456319-107a-44d4-ab3b-1d40f1be7ef0",
   "metadata": {},
   "source": [
    "## 8. Evaluation Metrics: RMSE and MAE"
   ]
  },
  {
   "cell_type": "code",
   "execution_count": null,
   "id": "aaf4ac16-80d5-4aeb-bc84-6fe560ba118a",
   "metadata": {},
   "outputs": [],
   "source": [
    "# RMSE and MAE for the best-performing model (e.g., Random Forest)\n",
    "rmse = np.sqrt(mean_squared_error(y_test, y_pred_rf))\n",
    "mae = mean_absolute_error(y_test, y_pred_rf)\n",
    "print(f\"Final Model - RMSE: {rmse}, MAE: {mae}\")"
   ]
  }
 ],
 "metadata": {
  "kernelspec": {
   "display_name": "Python 3 (ipykernel)",
   "language": "python",
   "name": "python3"
  },
  "language_info": {
   "codemirror_mode": {
    "name": "ipython",
    "version": 3
   },
   "file_extension": ".py",
   "mimetype": "text/x-python",
   "name": "python",
   "nbconvert_exporter": "python",
   "pygments_lexer": "ipython3",
   "version": "3.11.9"
  }
 },
 "nbformat": 4,
 "nbformat_minor": 5
}
